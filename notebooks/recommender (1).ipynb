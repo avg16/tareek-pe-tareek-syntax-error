{
  "nbformat": 4,
  "nbformat_minor": 0,
  "metadata": {
    "colab": {
      "provenance": [],
      "collapsed_sections": [
        "Mg4KwL6lY6s-",
        "7eUpA0ULWwwZ",
        "8YQXh3pEXYe2",
        "OMasl0avXkqU",
        "LTcXINmwX5GD",
        "jNb4tTZZYuEA",
        "tTPp2hGgZHeA",
        "yf9E1EubZSgj",
        "cSoL1W1EZlmt",
        "QyzOob6zZvVV"
      ]
    },
    "kernelspec": {
      "name": "python3",
      "display_name": "Python 3"
    },
    "language_info": {
      "name": "python"
    }
  },
  "cells": [
    {
      "cell_type": "markdown",
      "source": [
        "### Importing important libraries"
      ],
      "metadata": {
        "id": "Mg4KwL6lY6s-"
      }
    },
    {
      "cell_type": "code",
      "source": [
        "import numpy as np\n",
        "from collections import defaultdict\n",
        "from scipy.stats import beta\n",
        "import matplotlib.pyplot as plt\n",
        "import seaborn as sns"
      ],
      "metadata": {
        "id": "cRwZUgK3-ysK"
      },
      "execution_count": 3,
      "outputs": []
    },
    {
      "cell_type": "code",
      "source": [
        "class Metrics:\n",
        "    def __init__(self, row):\n",
        "        self.choice_score = 0\n",
        "        self.row = row\n",
        "\n",
        "    def preferences(self):\n",
        "        # preferred_age_range = self.row['preferred_age_range']  # (0,6)\n",
        "        # sexuality = self.row['sexuality']  # (0,4)\n",
        "        education_level = self.row['education_level']  # (0,4)\n",
        "        income_level = self.row['income_level']  # (0,4)\n",
        "\n",
        "        self.preference_metric = (education_level * 0.5 + income_level * 0.5)\n",
        "        return self.preference_metric\n",
        "\n",
        "    def personality(self):\n",
        "        curiosity_level = self.row['curiosity_level']  # (0,10)\n",
        "        organized_chaos = self.row['organized_chaos']  # (0,10)\n",
        "        social_butterfly = self.row['social_butterfly']  # (0,10)\n",
        "        team_player_vibes = self.row['team_player_vibes']  # (0,10)\n",
        "\n",
        "        self.personality_metric = (curiosity_level * 0.25 + organized_chaos * 0.2 +\n",
        "                                   social_butterfly * 0.3 + team_player_vibes * 0.25)\n",
        "        return self.personality_metric\n",
        "\n",
        "    def lifestyle(self):\n",
        "        chill_factor = self.row['chill_factor']  # (0,10)\n",
        "        adventure_seeker = self.row['adventure_seeker']  # (0,10)\n",
        "        perfectionist_mode = self.row['perfectionist_mode']  # (0,10)\n",
        "        party_starter = self.row['party_starter']  # (0,10)\n",
        "        harmony_seeker = self.row['harmony_seeker']  # (0,10)\n",
        "\n",
        "        self.lifestyle_metric = (chill_factor * 0.2 + adventure_seeker * 0.2 +\n",
        "                                 perfectionist_mode * 0.15 + party_starter * 0.15 +\n",
        "                                 harmony_seeker * 0.3)\n",
        "        return self.lifestyle_metric\n",
        "\n",
        "    def preferences_extended(self):\n",
        "        dietary_preferences = self.row['dietary_preferences']  # (0,4)\n",
        "        pet_preferences = self.row['pet_preferences']  # (0,3)\n",
        "        fitness_preferences = self.row['fitness_preferences']  # (0,4)\n",
        "        alcohol_consumption = self.row['alcohol_consumption']  # (0,3)\n",
        "\n",
        "        self.preferences_extended_metric = (dietary_preferences * 0.25 + pet_preferences * 0.25 +\n",
        "                                            fitness_preferences * 0.25 + alcohol_consumption * 0.25)\n",
        "        return self.preferences_extended_metric\n",
        "\n",
        "    def occupation(self):\n",
        "        preferred_occupation1 = self.row['preferred_occupation1']  # (0,6)\n",
        "        preferred_occupation2 = self.row['preferred_occupation2']  # (0,6)\n",
        "        preferred_occupation3 = self.row['preferred_occupation3']  # (0,6)\n",
        "\n",
        "        self.occupation_metric = (preferred_occupation1 * 0.4 + preferred_occupation2 * 0.3 +\n",
        "                                  preferred_occupation3 * 0.3)\n",
        "        return self.occupation_metric\n",
        "\n",
        "    def hobbies(self):\n",
        "        hobby1 = self.row['hobby1']  # (0,7)\n",
        "        hobby2 = self.row['hobby2']  # (0,7)\n",
        "        hobby3 = self.row['hobby3']  # (0,7)\n",
        "\n",
        "        self.hobby_metric = (hobby1 * 0.4 + hobby2 * 0.3 + hobby3 * 0.3)\n",
        "        return self.hobby_metric\n",
        "\n",
        "    def entertainment(self):\n",
        "        movie_preference1 = self.row['movie_preference1']  # (0,8)\n",
        "        movie_preference2 = self.row['movie_preference2']  # (0,8)\n",
        "        movie_preference3 = self.row['movie_preference3']  # (0,8)\n",
        "        song_preference1 = self.row['song_preference1']  # (0,8)\n",
        "        song_preference2 = self.row['song_preference2']  # (0,8)\n",
        "        song_preference3 = self.row['song_preference3']  # (0,8)\n",
        "\n",
        "        self.entertainment_metric = (movie_preference1 * 0.2 + movie_preference2 * 0.2 +\n",
        "                                     movie_preference3 * 0.2 + song_preference1 * 0.1 +\n",
        "                                     song_preference2 * 0.15 + song_preference3 * 0.15)\n",
        "        return self.entertainment_metric\n"
      ],
      "metadata": {
        "id": "k9ffrkT-NiKD"
      },
      "execution_count": 6,
      "outputs": []
    },
    {
      "cell_type": "markdown",
      "source": [
        "### Calculating Risk-Scores for likelhood"
      ],
      "metadata": {
        "id": "8YQXh3pEXYe2"
      }
    },
    {
      "cell_type": "code",
      "source": [
        "def calculate_risk_score(preference_metric, personality_metric, lifestyle_metric, preferences_extended_metric, occupation_metric, hobby_metric, entertainment_metric):\n",
        "  risk_score = 0\n",
        "  risk_score = preference_metric * 0.25 + personality_metric * 0.2 + lifestyle_metric * 0.2 + preferences_extended_metric * 0.15 + occupation_metric * 0.1 + hobby_metric * 0.05 + entertainment_metric * 0.05\n",
        "\n",
        "  recommended_score = 1/(1+np.exp(-risk_score))\n",
        "\n",
        "  return recommended_score"
      ],
      "metadata": {
        "id": "SwpzVdHj-W8Y"
      },
      "execution_count": 31,
      "outputs": []
    },
    {
      "cell_type": "markdown",
      "source": [
        "### Initialising a dataframe and hence making if flexible to add more entries for new soldiers."
      ],
      "metadata": {
        "id": "OMasl0avXkqU"
      }
    },
    {
      "cell_type": "code",
      "source": [
        "#dataframe of soldier's data\n",
        "import pandas as pd\n",
        "\n",
        "def create_rec_df():\n",
        "    columns = [\n",
        "        'username','name','superhero_name', \"preffered_age_range\",\"sexuality\",\"gender\",\"city\",\"education_level\",\"income_level\",\"curiosity_level\",\"organized_chaos\",\"social_butterfly\",\"team_player_vibes\",\"chill_factor\",\"adventure_seeker\",\"perfectionist_mode\",\"party_starter\",\"harmony_seeker\",\"mood_meter\",\"dietary_preferences\",\"pet_preferences\",\"fitness_preferences\",\"smoking_habits\",\"alcohol_consumption\",\"preferred_occupation1\",\"preferred_occupation2\",\"preferred_occupation3\",\"education_level\",\"income_level\",\"hobby1\",\"hobby2\",\"hobby3\",\"movie_preference1\",\"movie_preference2\",\"movie_preference3\",\"song_preference1\",\"song_preference2\",\"song_preference3\",\"have_dated\",\"dating_status\"\n",
        "    ]\n",
        "\n",
        "    df = pd.DataFrame(columns=columns)\n",
        "    return df\n",
        "\n",
        "def add_new_entry(df, entry_data):\n",
        "  df.loc[len(df)] = entry_data\n",
        "  return df\n",
        "\n",
        "rec_df = create_rec_df()\n",
        "\n",
        "new_user_metrics={\n",
        "    'username':'abhivansh',\n",
        "    'name':'Abhishek',\n",
        "    'superhero_name':'panty-man',\n",
        "    'preffered_age_range':6,\n",
        "    'sexuality':4,\n",
        "    'gender':'male',\n",
        "    'city':'Delhi',\n",
        "    'education_level':4,\n",
        "    'income_level':4,\n",
        "    'curiosity_level':10,\n",
        "    'organized_chaos':10,\n",
        "    'social_butterfly':10,\n",
        "    'team_player_vibes':10,\n",
        "    'chill_factor':10,\n",
        "    'adventure_seeker':10,\n",
        "    'perfectionist_mode':10,\n",
        "    'party_starter':10,\n",
        "    'harmony_seeker':10,\n",
        "    'mood_meter': 8,\n",
        "    'dietary_preferences': 3,\n",
        "    'pet_preferences': 3,\n",
        "    'fitness_preferences':3,\n",
        "    'smoking_habits':0,\n",
        "    'alcohol_consumption':3,\n",
        "    'preferred_occupation1':5,\n",
        "    'preferred_occupation2':5,\n",
        "    'preferred_occupation3':5,\n",
        "    'hobby1':3,\n",
        "    'hobby2':3,\n",
        "    'hobby3':3,\n",
        "    'movie_preference1':8,\n",
        "    'movie_preference2':8,\n",
        "    'movie_preference3':8,\n",
        "    'song_preference1':8,\n",
        "    'song_preference2':8,\n",
        "    'song_preference3':8,\n",
        "    'have_dated':0,\n",
        "    'dating_status':0\n",
        "}\n",
        "\n",
        "rec_df = add_new_entry(rec_df, new_user_metrics)\n"
      ],
      "metadata": {
        "id": "-_kVZ8arAsZs"
      },
      "execution_count": 11,
      "outputs": []
    },
    {
      "cell_type": "code",
      "source": [
        "#sample dataframe\n",
        "rec_df.columns"
      ],
      "metadata": {
        "colab": {
          "base_uri": "https://localhost:8080/"
        },
        "id": "afyMkKOCM73X",
        "outputId": "67d554b0-3752-46d3-d789-836ab9e0a753"
      },
      "execution_count": 51,
      "outputs": [
        {
          "output_type": "execute_result",
          "data": {
            "text/plain": [
              "Index(['username', 'name', 'superhero_name', 'preffered_age_range',\n",
              "       'sexuality', 'gender', 'city', 'education_level', 'income_level',\n",
              "       'curiosity_level', 'organized_chaos', 'social_butterfly',\n",
              "       'team_player_vibes', 'chill_factor', 'adventure_seeker',\n",
              "       'perfectionist_mode', 'party_starter', 'harmony_seeker', 'mood_meter',\n",
              "       'dietary_preferences', 'pet_preferences', 'fitness_preferences',\n",
              "       'smoking_habits', 'alcohol_consumption', 'preferred_occupation1',\n",
              "       'preferred_occupation2', 'preferred_occupation3', 'education_level',\n",
              "       'income_level', 'hobby1', 'hobby2', 'hobby3', 'movie_preference1',\n",
              "       'movie_preference2', 'movie_preference3', 'song_preference1',\n",
              "       'song_preference2', 'song_preference3', 'have_dated', 'dating_status'],\n",
              "      dtype='object')"
            ]
          },
          "metadata": {},
          "execution_count": 51
        }
      ]
    },
    {
      "cell_type": "markdown",
      "source": [
        "### Function to calculate scores for all entries of a particular Dataframe, and shortlisting Potential Betrayers on the basis of a set threshold."
      ],
      "metadata": {
        "id": "LTcXINmwX5GD"
      }
    },
    {
      "cell_type": "code",
      "source": [
        "def row_calculation(dataframe):\n",
        "  all_rec_scores = []\n",
        "  top3 = []\n",
        "  THRESHOLD_diff= 0.7\n",
        "\n",
        "  for name in dataframe['name']:\n",
        "\n",
        "    user_row = dataframe[dataframe['name'] == name].iloc[0]\n",
        "    metrics = Metrics(user_row)\n",
        "    preference_metric = sigmoid(metrics.preferences())\n",
        "    personality_metric = sigmoid(metrics.personality())\n",
        "    lifestyle_metric = sigmoid(metrics.lifestyle())\n",
        "    preferences_extended_metric = sigmoid(metrics.preferences_extended())\n",
        "    occupation_metric = sigmoid(metrics.occupation())\n",
        "    hobby_metric = sigmoid(metrics.hobbies())\n",
        "    entertainment_metric = sigmoid(metrics.entertainment())\n",
        "    rec_score = calculate_risk_score(preference_metric, personality_metric, lifestyle_metric, preferences_extended_metric, occupation_metric, hobby_metric, entertainment_metric)\n",
        "    all_rec_scores.append(rec_score)\n",
        "\n",
        "\n",
        "    if rec_score <= THRESHOLD_diff:\n",
        "      top3.append(name)\n",
        "    all_rec_scores.append(rec_score)\n",
        "  return top3"
      ],
      "metadata": {
        "id": "gMeR5mh1_4LE"
      },
      "execution_count": 55,
      "outputs": []
    },
    {
      "cell_type": "code",
      "source": [
        "def sigmoid(x):\n",
        "  x = np.array(x, dtype = float)\n",
        "  return 1/(1+np.exp(-x))"
      ],
      "metadata": {
        "id": "hs-es-Awhr6H"
      },
      "execution_count": 41,
      "outputs": []
    },
    {
      "cell_type": "markdown",
      "source": [
        "### Function to add new data and calculate it's risk-scores."
      ],
      "metadata": {
        "id": "jNb4tTZZYuEA"
      }
    },
    {
      "cell_type": "code",
      "source": [
        "def new_entry_with_calc(df, entry_data):\n",
        "  df.loc[len(df)] = entry_data\n",
        "  row_calculation(df)\n",
        "  pass"
      ],
      "metadata": {
        "id": "Ouswzgr4cltC"
      },
      "execution_count": 43,
      "outputs": []
    },
    {
      "cell_type": "markdown",
      "source": [
        "### Data Analysis of Individual User"
      ],
      "metadata": {
        "id": "tTPp2hGgZHeA"
      }
    },
    {
      "cell_type": "code",
      "source": [
        "def data_analysis_user(dataframe,name):\n",
        "\n",
        "  user_row = dataframe[dataframe['name'] == name].iloc[0]\n",
        "\n",
        "  metrics = Metrics(user_row)\n",
        "  preference_metric = 0\n",
        "  personality_metric = sigmoid(metrics.personality())\n",
        "  lifestyle_metric = sigmoid(metrics.lifestyle())\n",
        "  preferences_extended_metric = sigmoid(metrics.preferences_extended())\n",
        "  occupation_metric = sigmoid(metrics.occupation())\n",
        "  hobby_metric = sigmoid(metrics.hobbies())\n",
        "  entertainment_metric = sigmoid(metrics.entertainment())\n",
        "\n",
        "  arr = [preference_metric, personality_metric, lifestyle_metric, preferences_extended_metric, occupation_metric, hobby_metric, entertainment_metric]\n",
        "\n",
        "  all_metrics={'\\tPreferences':preference_metric, '\\tPersonality':personality_metric, '\\tLifestyle':lifestyle_metric, '\\tMore Preferences':preferences_extended_metric,'\\tOccupation': occupation_metric, '\\tHobby Factors': hobby_metric}\n",
        "\n",
        "  rec_likelihood = calculate_risk_score(preference_metric, personality_metric, lifestyle_metric, preferences_extended_metric, occupation_metric, hobby_metric, entertainment_metric)\n",
        "  print(\"User Assessment of\",user_row['name'],\":\")\n",
        "  print('Likelihood of reccomendation based on:')\n",
        "  for key,value in all_metrics.items():\n",
        "    print(key,\":\",value)\n",
        "  print(\"Recommendation Score:\",rec_likelihood)\n"
      ],
      "metadata": {
        "id": "cz5XVsclHING"
      },
      "execution_count": 46,
      "outputs": []
    },
    {
      "cell_type": "code",
      "source": [
        "data_analysis_user(rec_df,'Abhishek')"
      ],
      "metadata": {
        "colab": {
          "base_uri": "https://localhost:8080/"
        },
        "id": "c2MfVwum0hq0",
        "outputId": "86998a86-2ea2-44a7-ebf2-8110a4f73204"
      },
      "execution_count": 47,
      "outputs": [
        {
          "output_type": "stream",
          "name": "stdout",
          "text": [
            "User Assessment of Abhishek :\n",
            "Likelihood of reccomendation based on:\n",
            "\tPreferences : 0\n",
            "\tPersonality : 0.9999546021312976\n",
            "\tLifestyle : 0.9999546021312976\n",
            "\tMore Preferences : 0.9525741268224334\n",
            "\tOccupation : 0.9933071490757153\n",
            "\tHobby Factors : 0.9525741268224334\n",
            "Recommendation Score: 0.6769544412630593\n"
          ]
        }
      ]
    },
    {
      "cell_type": "markdown",
      "source": [
        "### Synthetic Data Initialisation & Calculations"
      ],
      "metadata": {
        "id": "yf9E1EubZSgj"
      }
    },
    {
      "cell_type": "code",
      "source": [
        "syn_data = pd.read_csv(\"/content/dating_dataset.csv\")"
      ],
      "metadata": {
        "id": "bUsOACL31tuW"
      },
      "execution_count": 53,
      "outputs": []
    },
    {
      "cell_type": "code",
      "source": [
        "row_calculation(syn_data)"
      ],
      "metadata": {
        "colab": {
          "base_uri": "https://localhost:8080/"
        },
        "id": "fnUtQ7AwLMAv",
        "outputId": "a3b4ec5f-d36c-4426-da2f-d35d157bd1ef"
      },
      "execution_count": 56,
      "outputs": [
        {
          "output_type": "execute_result",
          "data": {
            "text/plain": [
              "['user_8',\n",
              " 'user_11',\n",
              " 'user_23',\n",
              " 'user_40',\n",
              " 'user_56',\n",
              " 'user_71',\n",
              " 'user_79',\n",
              " 'user_86',\n",
              " 'user_94',\n",
              " 'user_102',\n",
              " 'user_107',\n",
              " 'user_114',\n",
              " 'user_120',\n",
              " 'user_177',\n",
              " 'user_185',\n",
              " 'user_187',\n",
              " 'user_220',\n",
              " 'user_241',\n",
              " 'user_253',\n",
              " 'user_296',\n",
              " 'user_323',\n",
              " 'user_329',\n",
              " 'user_360',\n",
              " 'user_406',\n",
              " 'user_409',\n",
              " 'user_411',\n",
              " 'user_442',\n",
              " 'user_461',\n",
              " 'user_492']"
            ]
          },
          "metadata": {},
          "execution_count": 56
        }
      ]
    }
  ]
}
